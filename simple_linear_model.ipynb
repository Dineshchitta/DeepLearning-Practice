import tensorflow as tf

a = tf.Constant(3)
print(a)
